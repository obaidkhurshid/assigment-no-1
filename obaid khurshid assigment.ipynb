{
 "cells": [
  {
   "cell_type": "code",
   "execution_count": 1,
   "metadata": {
    "scrolled": true
   },
   "outputs": [
    {
     "name": "stdout",
     "output_type": "stream",
     "text": [
      "Vowels are: {'e', 'i', 'u', 'a', 'o'}\n",
      "Vowels are: {'e', 'i', 'u', 'a', 'o'}\n"
     ]
    }
   ],
   "source": [
    "\n",
    "vowels = {'a', 'e', 'i', 'u'}\n",
    "\n",
    "\n",
    "vowels.add('o')\n",
    "print('Vowels are:', vowels)\n",
    "\n",
    "\n",
    "vowels.add('a')\n",
    "print('Vowels are:', vowels)"
   ]
  },
  {
   "cell_type": "code",
   "execution_count": 2,
   "metadata": {},
   "outputs": [
    {
     "name": "stdout",
     "output_type": "stream",
     "text": [
      "Adam's age is: 19\n",
      "John's age is: 34\n"
     ]
    }
   ],
   "source": [
    "from datetime import date\n",
    "\n",
    "# random Person\n",
    "class Person:\n",
    "    def __init__(self, name, age):\n",
    "        self.name = name\n",
    "        self.age = age\n",
    "\n",
    "    @classmethod\n",
    "    def fromBirthYear(cls, name, birthYear):\n",
    "        return cls(name, date.today().year - birthYear)\n",
    "\n",
    "    def display(self):\n",
    "        print(self.name + \"'s age is: \" + str(self.age))\n",
    "\n",
    "person = Person('Adam', 19)\n",
    "person.display()\n",
    "\n",
    "person1 = Person.fromBirthYear('John',  1985)\n",
    "person1.display()"
   ]
  },
  {
   "cell_type": "code",
   "execution_count": 4,
   "metadata": {},
   "outputs": [
    {
     "name": "stdout",
     "output_type": "stream",
     "text": [
      "x =  10\n",
      "y =  -5\n",
      "z =  6\n",
      "--After deleting z attribute--\n",
      "x =  10\n",
      "y =  -5\n"
     ]
    },
    {
     "ename": "AttributeError",
     "evalue": "'Coordinate' object has no attribute 'z'",
     "output_type": "error",
     "traceback": [
      "\u001b[1;31m---------------------------------------------------------------------------\u001b[0m",
      "\u001b[1;31mAttributeError\u001b[0m                            Traceback (most recent call last)",
      "\u001b[1;32m<ipython-input-4-fe2bf8c647ad>\u001b[0m in \u001b[0;36m<module>\u001b[1;34m\u001b[0m\n\u001b[0;32m     17\u001b[0m \u001b[1;33m\u001b[0m\u001b[0m\n\u001b[0;32m     18\u001b[0m \u001b[1;31m# Raises Error\u001b[0m\u001b[1;33m\u001b[0m\u001b[1;33m\u001b[0m\u001b[1;33m\u001b[0m\u001b[0m\n\u001b[1;32m---> 19\u001b[1;33m \u001b[0mprint\u001b[0m\u001b[1;33m(\u001b[0m\u001b[1;34m'z = '\u001b[0m\u001b[1;33m,\u001b[0m\u001b[0mpoint1\u001b[0m\u001b[1;33m.\u001b[0m\u001b[0mz\u001b[0m\u001b[1;33m)\u001b[0m\u001b[1;33m\u001b[0m\u001b[1;33m\u001b[0m\u001b[0m\n\u001b[0m",
      "\u001b[1;31mAttributeError\u001b[0m: 'Coordinate' object has no attribute 'z'"
     ]
    }
   ],
   "source": [
    "class Coordinate:\n",
    "  x = 10\n",
    "  y = -5\n",
    "  z = 6\n",
    "\n",
    "point1 = Coordinate() \n",
    "\n",
    "print('x = ',point1.x)\n",
    "print('y = ',point1.y)\n",
    "print('z = ',point1.z)\n",
    "\n",
    "delattr(Coordinate, 'z')\n",
    "\n",
    "print('--After deleting z attribute--')\n",
    "print('x = ',point1.x)\n",
    "print('y = ',point1.y)\n",
    "\n",
    "# Raises Error\n",
    "print('z = ',point1.z)"
   ]
  },
  {
   "cell_type": "code",
   "execution_count": 5,
   "metadata": {},
   "outputs": [
    {
     "name": "stdout",
     "output_type": "stream",
     "text": [
      "['__class__', '__delattr__', '__dict__', '__dir__', '__doc__', '__eq__', '__format__', '__ge__', '__getattribute__', '__gt__', '__hash__', '__init__', '__init_subclass__', '__le__', '__lt__', '__module__', '__ne__', '__new__', '__reduce__', '__reduce_ex__', '__repr__', '__setattr__', '__sizeof__', '__str__', '__subclasshook__', '__weakref__', 'age', 'country', 'name']\n"
     ]
    }
   ],
   "source": [
    "class Person:\n",
    "  name = \"John\"\n",
    "  age = 36\n",
    "  country = \"Norway\"\n",
    "\n",
    "print(dir(Person))\n"
   ]
  },
  {
   "cell_type": "code",
   "execution_count": 11,
   "metadata": {},
   "outputs": [
    {
     "name": "stdout",
     "output_type": "stream",
     "text": [
      "Returns arg1 raised to power arg2.\n"
     ]
    }
   ],
   "source": [
    "def power(a, b): \n",
    "    \"\"\"Returns arg1 raised to power arg2.\"\"\"\n",
    "   \n",
    "    return a**b \n",
    "  \n",
    "print (power.__doc__)"
   ]
  },
  {
   "cell_type": "code",
   "execution_count": 15,
   "metadata": {},
   "outputs": [],
   "source": [
    "class A(object):\n",
    "    def __eq__(self, other):\n",
    "        print (\"A __eq__ called\")\n",
    "        return self.value == other\n",
    "class B(object):\n",
    "    def __eq__(self, other):\n",
    "        print (\"B __eq__ called\")\n",
    "        return self.value == other\n",
    "\n"
   ]
  },
  {
   "cell_type": "code",
   "execution_count": 16,
   "metadata": {},
   "outputs": [
    {
     "name": "stdout",
     "output_type": "stream",
     "text": [
      "obaid,  my name is .\n",
      "This article is written in English\n",
      "Hello, I am 22 years old !\n"
     ]
    }
   ],
   "source": [
    "print (\"{},  my name is .\"\n",
    "                        .format(\"obaid\")) \n",
    "  \n",
    "# using format option for a \n",
    "# value stored in a variable \n",
    "str = \"This article is written in {}\"\n",
    "print (str.format(\"English\")) \n",
    "  \n",
    "# formatting a string using a numeric constant \n",
    "print (\"Hello, I am {} years old !\".format(22))"
   ]
  },
  {
   "cell_type": "code",
   "execution_count": 19,
   "metadata": {},
   "outputs": [
    {
     "name": "stdout",
     "output_type": "stream",
     "text": [
      "The age is: 23\n",
      "The age is: 23\n"
     ]
    }
   ],
   "source": [
    "class Person:\n",
    "    age = 23\n",
    "    name = \"Adam\"\n",
    "\n",
    "person = Person()\n",
    "print('The age is:', getattr(person, \"age\"))\n",
    "print('The age is:', person.age)"
   ]
  },
  {
   "cell_type": "code",
   "execution_count": 20,
   "metadata": {},
   "outputs": [
    {
     "name": "stdout",
     "output_type": "stream",
     "text": [
      "IJKL\n"
     ]
    }
   ],
   "source": [
    "class Counter(object):\n",
    "    def __init__(self, floors):\n",
    "        self._floors = [None]*floors\n",
    " \n",
    "    def __setitem__(self, floor_number, data):\n",
    "        self._floors[floor_number] = data\n",
    " \n",
    "    def __getitem__(self, floor_number):\n",
    "        return self._floors[floor_number]\n",
    " \n",
    " \n",
    "index = Counter(4)\n",
    "index[0] = 'ABCD'\n",
    "index[1] = 'EFGH'\n",
    "index[2] = 'IJKL'\n",
    "index[3] = 'MNOP'\n",
    " \n",
    "print(index[2])"
   ]
  },
  {
   "cell_type": "code",
   "execution_count": 22,
   "metadata": {},
   "outputs": [
    {
     "name": "stdout",
     "output_type": "stream",
     "text": [
      "Hash for 181 is: 181\n",
      "Hash for 181.23 is: 530343892119126197\n",
      "Hash for Python is: 2895777227435140878\n"
     ]
    }
   ],
   "source": [
    "\n",
    "print('Hash for 181 is:', hash(181))\n",
    "\n",
    "\n",
    "print('Hash for 181.23 is:',hash(181.23))\n",
    "\n",
    "\n",
    "print('Hash for Python is:', hash('Python'))"
   ]
  },
  {
   "cell_type": "code",
   "execution_count": 23,
   "metadata": {},
   "outputs": [],
   "source": [
    "class Car(object):\n",
    "  \"\"\"\n",
    "    blueprint for car\n",
    "  \"\"\"\n",
    "\n",
    "  def __init__(self, model, color, company, speed_limit):\n",
    "    self.color = color\n",
    "    self.company = company\n",
    "    self.speed_limit = speed_limit\n",
    "    self.model = model\n",
    "\n",
    "  def start(self):\n",
    "    print(\"started\")\n",
    "\n",
    "  def stop(self):\n",
    "    print(\"stopped\")\n",
    "\n",
    "  def accelarate(self):\n",
    "    print(\"accelarating...\")\n",
    "    \"accelarator functionality here\"\n",
    "\n",
    "  def change_gear(self, gear_type):\n",
    "    print(\"gear changed\")\n",
    "    \" gear related functionality here\""
   ]
  },
  {
   "cell_type": "code",
   "execution_count": 24,
   "metadata": {},
   "outputs": [
    {
     "name": "stdout",
     "output_type": "stream",
     "text": [
      "a\n",
      "e\n",
      "i\n",
      "o\n",
      "u\n"
     ]
    }
   ],
   "source": [
    "# list of vowels\n",
    "vowels = ['a', 'e', 'i', 'o', 'u']\n",
    "\n",
    "vowelsIter = iter(vowels)\n",
    "\n",
    "# prints 'a'\n",
    "print(next(vowelsIter))\n",
    "\n",
    "# prints 'e'\n",
    "print(next(vowelsIter))\n",
    "\n",
    "# prints 'i'\n",
    "print(next(vowelsIter))\n",
    "\n",
    "# prints 'o'\n",
    "print(next(vowelsIter))\n",
    "\n",
    "# prints 'u'\n",
    "print(next(vowelsIter))"
   ]
  },
  {
   "cell_type": "code",
   "execution_count": 25,
   "metadata": {},
   "outputs": [],
   "source": [
    "def get_op(cls, op):\n",
    "        ops = {\n",
    "            symbol.test: cls.test,\n",
    "            symbol.and_test: cls.and_test,\n",
    "            symbol.atom: cls.atom,\n",
    "            symbol.comparison: cls.comparison,\n",
    "            'not in': lambda x, y: x not in y,\n",
    "            'in': lambda x, y: x in y,\n",
    "            '==': operator.eq,\n",
    "            '!=': operator.ne,\n",
    "            '<':  operator.lt,\n",
    "            '>':  operator.gt,\n",
    "            '<=': operator.le,\n",
    "            '>=': operator.ge,\n",
    "        }\n",
    "        if hasattr(symbol, 'or_test'):\n",
    "            ops[symbol.or_test] = cls.test\n",
    "        return ops[op]"
   ]
  },
  {
   "cell_type": "code",
   "execution_count": 38,
   "metadata": {},
   "outputs": [
    {
     "ename": "IndentationError",
     "evalue": "unexpected indent (<ipython-input-38-b78b3f971cd8>, line 2)",
     "output_type": "error",
     "traceback": [
      "\u001b[1;36m  File \u001b[1;32m\"<ipython-input-38-b78b3f971cd8>\"\u001b[1;36m, line \u001b[1;32m2\u001b[0m\n\u001b[1;33m    Xb =len(mylist)\u001b[0m\n\u001b[1;37m    ^\u001b[0m\n\u001b[1;31mIndentationError\u001b[0m\u001b[1;31m:\u001b[0m unexpected indent\n"
     ]
    }
   ],
   "source": [
    "mylist = [\"apple\", \"banana\", \"cherry\"]\n",
    "  X =len(mylist)\n",
    "print(X)// show the number of element  in mylist?"
   ]
  },
  {
   "cell_type": "code",
   "execution_count": 35,
   "metadata": {},
   "outputs": [],
   "source": [
    "class KeyedMixin:\n",
    "  def __lt__(self, other):\n",
    "    return self.__key__() < other.__key__()\n",
    "  \n",
    "  def __hash__(self):\n",
    "    return hash(self.__key__())"
   ]
  },
  {
   "cell_type": "code",
   "execution_count": 40,
   "metadata": {},
   "outputs": [
    {
     "name": "stdout",
     "output_type": "stream",
     "text": [
      "Do you want to continue? y\n",
      "Enter a number : 56\n",
      "Enter another number : 78\n",
      "56.0  %  78.0  =  56.0\n",
      "78.0  %  56.0  =  22.0\n",
      "Do you want to continue? n\n"
     ]
    }
   ],
   "source": [
    "while True:\n",
    "    a = input('Do you want to continue? ')\n",
    "    if a.lower() != 'y':\n",
    "        break\n",
    "\n",
    "    a = float(input('Enter a number : '))\n",
    "    b = float(input('Enter another number : '))\n",
    "    print(a, ' % ', b, ' = ', a % b)\n",
    "    print(b, ' % ', a, ' = ', b % a)"
   ]
  },
  {
   "cell_type": "code",
   "execution_count": 41,
   "metadata": {},
   "outputs": [],
   "source": [
    "def get_tensor_size(tensor):\n",
    "    from operator import mul\n",
    "    return reduce(mul, (d.value for d in tensor.get_shape()), 1)"
   ]
  },
  {
   "cell_type": "code",
   "execution_count": 42,
   "metadata": {},
   "outputs": [],
   "source": [
    "class A:\n",
    "    def __eq__(self, other):\n",
    "        return self.value == other.value\n",
    "\n",
    "    def __ne__(self, other):\n",
    "        return not self.__eq__(other)"
   ]
  },
  {
   "cell_type": "code",
   "execution_count": 43,
   "metadata": {},
   "outputs": [
    {
     "name": "stdout",
     "output_type": "stream",
     "text": [
      "The sum of the list elements is : 17\n",
      "The maximum element of the list is : 6\n"
     ]
    }
   ],
   "source": [
    "import functools \n",
    "  \n",
    "# initializing list \n",
    "lis = [ 1 , 3, 5, 6, 2, ] \n",
    "  \n",
    "# using reduce to compute sum of list \n",
    "print (\"The sum of the list elements is : \",end=\"\") \n",
    "print (functools.reduce(lambda a,b : a+b,lis)) \n",
    "  \n",
    "# using reduce to compute maximum element from list \n",
    "print (\"The maximum element of the list is : \",end=\"\") \n",
    "print (functools.reduce(lambda a,b : a if a > b else b,lis)) "
   ]
  },
  {
   "cell_type": "code",
   "execution_count": 45,
   "metadata": {},
   "outputs": [
    {
     "data": {
      "text/plain": [
       "\"'obaid khurshid'\""
      ]
     },
     "execution_count": 45,
     "metadata": {},
     "output_type": "execute_result"
    }
   ],
   "source": [
    "class Person:\n",
    "    name = 'obaid khurshid'\n",
    "\n",
    "    def __repr__(self):\n",
    "        return repr(self.name)\n",
    "\n",
    "repr(Person())"
   ]
  },
  {
   "cell_type": "code",
   "execution_count": 46,
   "metadata": {},
   "outputs": [
    {
     "name": "stdout",
     "output_type": "stream",
     "text": [
      "Before modification: obaid khurshid \n",
      "After modification: fiaz shazd\n"
     ]
    }
   ],
   "source": [
    "class Person:\n",
    "    name = 'obaid khurshid '\n",
    "    \n",
    "p = Person()\n",
    "print('Before modification:', p.name)\n",
    "\n",
    "# setting name to 'John'\n",
    "setattr(p, 'name', 'fiaz shazd')\n",
    "\n",
    "print('After modification:', p.name)"
   ]
  },
  {
   "cell_type": "code",
   "execution_count": 49,
   "metadata": {},
   "outputs": [
    {
     "name": "stdout",
     "output_type": "stream",
     "text": [
      "Old String:  python is AWesome.\n",
      "Capitalized String: Python is awesome.\n"
     ]
    }
   ],
   "source": [
    "string = \"python is AWesome.\"\n",
    "\n",
    "capitalized_string = string.capitalize()\n",
    "\n",
    "print('Old String: ', string)\n",
    "print('Capitalized String:', capitalized_string)"
   ]
  },
  {
   "cell_type": "code",
   "execution_count": 50,
   "metadata": {},
   "outputs": [
    {
     "name": "stdout",
     "output_type": "stream",
     "text": [
      "The strings are equal.\n"
     ]
    }
   ],
   "source": [
    "firstString = \"der Fluß\"\n",
    "secondString = \"der Fluss\"\n",
    "\n",
    "# ß is equivalent to ss\n",
    "if firstString.casefold() == secondString.casefold():\n",
    "    print('The strings are equal.')\n",
    "else:\n",
    "    print('The strings are not equal.')"
   ]
  },
  {
   "cell_type": "code",
   "execution_count": 51,
   "metadata": {},
   "outputs": [
    {
     "name": "stdout",
     "output_type": "stream",
     "text": [
      "       banana       \n"
     ]
    }
   ],
   "source": [
    "txt = \"banana\"\n",
    "\n",
    "x = txt.center(20)\n",
    "\n",
    "print(x)"
   ]
  },
  {
   "cell_type": "code",
   "execution_count": 52,
   "metadata": {},
   "outputs": [
    {
     "name": "stdout",
     "output_type": "stream",
     "text": [
      "The count is: 2\n"
     ]
    }
   ],
   "source": [
    "string = \"Python is awesome, isn't it?\"\n",
    "substring = \"is\"\n",
    "\n",
    "count = string.count(substring)\n",
    "\n",
    "# print count\n",
    "print(\"The count is:\", count)"
   ]
  },
  {
   "cell_type": "code",
   "execution_count": 53,
   "metadata": {},
   "outputs": [
    {
     "name": "stdout",
     "output_type": "stream",
     "text": [
      "The string is: pythön!\n",
      "The encoded version is: b'pyth\\xc3\\xb6n!'\n"
     ]
    }
   ],
   "source": [
    "# unicode string\n",
    "string = 'pythön!'\n",
    "# print string\n",
    "print('The string is:', string)\n",
    "# default encoding to utf-8\n",
    "string_utf = string.encode()\n",
    "# print result\n",
    "print('The encoded version is:', string_utf)"
   ]
  },
  {
   "cell_type": "code",
   "execution_count": 54,
   "metadata": {},
   "outputs": [
    {
     "name": "stdout",
     "output_type": "stream",
     "text": [
      "False\n",
      "True\n",
      "False\n"
     ]
    }
   ],
   "source": [
    "text = \"Python is not  easy to learn.\"\n",
    "\n",
    "result = text.endswith('to learn')\n",
    "# returns False\n",
    "print(result)\n",
    "\n",
    "result = text.endswith('to learn.')\n",
    "# returns True\n",
    "print(result)\n",
    "\n",
    "result = text.endswith('Python is easy to learn.')\n",
    "# returns True\n",
    "print(result)"
   ]
  },
  {
   "cell_type": "code",
   "execution_count": 55,
   "metadata": {},
   "outputs": [
    {
     "name": "stdout",
     "output_type": "stream",
     "text": [
      "xyz     12345   abc\n"
     ]
    }
   ],
   "source": [
    "str = 'xyz\\t12345\\tabc'\n",
    "\n",
    "# no argument is passed\n",
    "# default tabsize is 8\n",
    "result = str.expandtabs()\n",
    "\n",
    "print(result)"
   ]
  },
  {
   "cell_type": "code",
   "execution_count": 56,
   "metadata": {},
   "outputs": [
    {
     "name": "stdout",
     "output_type": "stream",
     "text": [
      "Substring 'let it': 11\n",
      "Substring 'small ': -1\n",
      "Contains substring 'be,'\n"
     ]
    }
   ],
   "source": [
    "quote = 'Let it be, let it be, let it be'\n",
    "\n",
    "result = quote.find('let it')\n",
    "print(\"Substring 'let it':\", result)\n",
    "\n",
    "result = quote.find('small')\n",
    "print(\"Substring 'small ':\", result)\n",
    "\n",
    "# How to use find()\n",
    "if  (quote.find('be,') != -1):\n",
    "  print(\"Contains substring 'be,'\")\n",
    "else:\n",
    "  print(\"Doesn't contain substring\")"
   ]
  },
  {
   "cell_type": "code",
   "execution_count": 57,
   "metadata": {},
   "outputs": [
    {
     "name": "stdout",
     "output_type": "stream",
     "text": [
      "Hello Adam, your balance is 230.2346.\n",
      "Hello Adam, your balance is 230.2346.\n",
      "Hello Adam, your balance is 230.2346.\n",
      "Hello Adam, your balance is 230.2346.\n"
     ]
    }
   ],
   "source": [
    "\n",
    "print(\"Hello {}, your balance is {}.\".format(\"Adam\", 230.2346))\n",
    "\n",
    "\n",
    "print(\"Hello {0}, your balance is {1}.\".format(\"Adam\", 230.2346))\n",
    "\n",
    "\n",
    "print(\"Hello {name}, your balance is {blc}.\".format(name=\"Adam\", blc=230.2346))\n",
    "\n",
    "\n",
    "print(\"Hello {0}, your balance is {blc}.\".format(\"Adam\", blc=230.2346))"
   ]
  },
  {
   "cell_type": "code",
   "execution_count": 58,
   "metadata": {},
   "outputs": [
    {
     "name": "stdout",
     "output_type": "stream",
     "text": [
      "The index of e: 1\n",
      "The index of i: 2\n"
     ]
    }
   ],
   "source": [
    "vowels = ['a', 'e', 'i', 'o', 'i', 'u']\n",
    "# index of 'e'\n",
    "index = vowels.index('e')\n",
    "print('The index of e:', index)\n",
    "# index of the first 'i'\n",
    "index = vowels.index('i')\n",
    "print('The index of i:', index)"
   ]
  },
  {
   "cell_type": "code",
   "execution_count": 59,
   "metadata": {},
   "outputs": [
    {
     "name": "stdout",
     "output_type": "stream",
     "text": [
      "True\n",
      "False\n",
      "True\n",
      "True\n"
     ]
    }
   ],
   "source": [
    "name = \"M234onica\"\n",
    "print(name.isalnum())\n",
    "\n",
    "# contains whitespace\n",
    "name = \"M3onica Gell22er \"\n",
    "print(name.isalnum())\n",
    "\n",
    "name = \"Mo3nicaGell22er\"\n",
    "print(name.isalnum())\n",
    "\n",
    "name = \"133\"\n",
    "print(name.isalnum())"
   ]
  },
  {
   "cell_type": "code",
   "execution_count": 60,
   "metadata": {},
   "outputs": [
    {
     "name": "stdout",
     "output_type": "stream",
     "text": [
      "True\n",
      "False\n",
      "False\n"
     ]
    }
   ],
   "source": [
    "name = \"Monica\"\n",
    "print(name.isalpha())\n",
    "\n",
    "# contains whitespace\n",
    "name = \"Monica Geller\"\n",
    "print(name.isalpha())\n",
    "\n",
    "# contains number\n",
    "name = \"Mo3nicaGell22er\"\n",
    "print(name.isalpha())"
   ]
  },
  {
   "cell_type": "code",
   "execution_count": 61,
   "metadata": {},
   "outputs": [
    {
     "name": "stdout",
     "output_type": "stream",
     "text": [
      "'Python is interesting'\n",
      "'Pyth\\xf6n is interesting'\n",
      "Pythön is interesting\n"
     ]
    }
   ],
   "source": [
    "normalText = 'Python is interesting'\n",
    "print(ascii(normalText))\n",
    "\n",
    "otherText = 'Pythön is interesting'\n",
    "print(ascii(otherText))\n",
    "\n",
    "print('Pyth\\xf6n is interesting')"
   ]
  },
  {
   "cell_type": "code",
   "execution_count": 62,
   "metadata": {},
   "outputs": [
    {
     "name": "stdout",
     "output_type": "stream",
     "text": [
      "True\n",
      "False\n",
      "False\n"
     ]
    }
   ],
   "source": [
    "s = \"28212\"\n",
    "print(s.isdecimal())\n",
    "\n",
    "# contains alphabets\n",
    "s = \"32ladk3\"\n",
    "print(s.isdecimal())\n",
    "\n",
    "# contains alphabets and spaces\n",
    "s = \"Mo3 nicaG el l22er\"\n",
    "print(s.isdecimal())"
   ]
  },
  {
   "cell_type": "code",
   "execution_count": 63,
   "metadata": {},
   "outputs": [
    {
     "name": "stdout",
     "output_type": "stream",
     "text": [
      "True\n",
      "False\n"
     ]
    }
   ],
   "source": [
    "s = \"28212\"\n",
    "print(s.isdigit())\n",
    "\n",
    "# contains alphabets and spaces\n",
    "s = \"Mo3 nicaG el l22er\"\n",
    "print(s.isdigit())"
   ]
  },
  {
   "cell_type": "code",
   "execution_count": 64,
   "metadata": {},
   "outputs": [
    {
     "name": "stdout",
     "output_type": "stream",
     "text": [
      "True\n",
      "False\n",
      "False\n",
      "False\n"
     ]
    }
   ],
   "source": [
    "str = 'Python'\n",
    "print(str.isidentifier())\n",
    "\n",
    "str = 'Py thon'\n",
    "print(str.isidentifier())\n",
    "\n",
    "str = '22Python'\n",
    "print(str.isidentifier())\n",
    "\n",
    "str = ''\n",
    "print(str.isidentifier())"
   ]
  },
  {
   "cell_type": "code",
   "execution_count": 65,
   "metadata": {},
   "outputs": [
    {
     "name": "stdout",
     "output_type": "stream",
     "text": [
      "True\n",
      "True\n",
      "False\n"
     ]
    }
   ],
   "source": [
    "s = 'this is good'\n",
    "print(s.islower())\n",
    "\n",
    "s = 'th!s is a1so g00d'\n",
    "print(s.islower())\n",
    "\n",
    "s = 'this is Not good'\n",
    "print(s.islower())"
   ]
  },
  {
   "cell_type": "code",
   "execution_count": 66,
   "metadata": {},
   "outputs": [
    {
     "name": "stdout",
     "output_type": "stream",
     "text": [
      "True\n",
      "True\n",
      "True\n",
      "False\n"
     ]
    }
   ],
   "source": [
    "s = '1242323'\n",
    "print(s.isnumeric())\n",
    "#s = '²3455'\n",
    "s = '\\u00B23455'\n",
    "print(s.isnumeric())\n",
    "# s = '½'\n",
    "s = '\\u00BD'\n",
    "print(s.isnumeric())\n",
    "s = '1242323'\n",
    "s='python12'\n",
    "print(s.isnumeric())"
   ]
  },
  {
   "cell_type": "code",
   "execution_count": 67,
   "metadata": {},
   "outputs": [
    {
     "name": "stdout",
     "output_type": "stream",
     "text": [
      "Space is a printable\n",
      "True\n",
      "\n",
      "New Line is printable\n",
      "False\n",
      "\n",
      "Empty string printable? True\n"
     ]
    }
   ],
   "source": [
    "s = 'Space is a printable'\n",
    "print(s)\n",
    "print(s.isprintable())\n",
    "\n",
    "s = '\\nNew Line is printable'\n",
    "print(s)\n",
    "print(s.isprintable())\n",
    "\n",
    "s = ''\n",
    "print('\\nEmpty string printable?', s.isprintable())"
   ]
  },
  {
   "cell_type": "code",
   "execution_count": 68,
   "metadata": {},
   "outputs": [
    {
     "name": "stdout",
     "output_type": "stream",
     "text": [
      "True\n",
      "False\n",
      "False\n"
     ]
    }
   ],
   "source": [
    "s = '   \\t'\n",
    "print(s.isspace())\n",
    "\n",
    "s = ' a '\n",
    "print(s.isspace())\n",
    "\n",
    "s = ''\n",
    "print(s.isspace())"
   ]
  },
  {
   "cell_type": "code",
   "execution_count": 69,
   "metadata": {
    "scrolled": true
   },
   "outputs": [
    {
     "name": "stdout",
     "output_type": "stream",
     "text": [
      "True\n",
      "False\n",
      "True\n",
      "True\n",
      "False\n"
     ]
    }
   ],
   "source": [
    "s = 'Python Is Good.'\n",
    "print(s.istitle())\n",
    "\n",
    "s = 'Python is good'\n",
    "print(s.istitle())\n",
    "\n",
    "s = 'This Is @ Symbol.'\n",
    "print(s.istitle())\n",
    "\n",
    "s = '99 Is A Number'\n",
    "print(s.istitle())\n",
    "\n",
    "s = 'PYTHON'\n",
    "print(s.istitle())"
   ]
  },
  {
   "cell_type": "code",
   "execution_count": 70,
   "metadata": {},
   "outputs": [
    {
     "name": "stdout",
     "output_type": "stream",
     "text": [
      "True\n",
      "True\n",
      "False\n"
     ]
    }
   ],
   "source": [
    "string = \"THIS IS GOOD!\"\n",
    "print(string.isupper());\n",
    "\n",
    "# numbers in place of alphabets\n",
    "string = \"THIS IS ALSO G00D!\"\n",
    "print(string.isupper());\n",
    "\n",
    "# lowercase string\n",
    "string = \"THIS IS not GOOD!\"\n",
    "print(string.isupper());"
   ]
  },
  {
   "cell_type": "code",
   "execution_count": 72,
   "metadata": {},
   "outputs": [
    {
     "name": "stdout",
     "output_type": "stream",
     "text": [
      "chauhdari#obaid#khurshid\n"
     ]
    }
   ],
   "source": [
    "myTuple = (\"chauhdari\", \"obaid\", \"khurshid\")\n",
    "\n",
    "x = \"#\".join(myTuple)\n",
    "\n",
    "print(x)"
   ]
  },
  {
   "cell_type": "code",
   "execution_count": 73,
   "metadata": {},
   "outputs": [
    {
     "name": "stdout",
     "output_type": "stream",
     "text": [
      "cat  \n"
     ]
    }
   ],
   "source": [
    "\n",
    "string = 'cat'\n",
    "width = 5\n",
    "print(string.ljust(width))"
   ]
  },
  {
   "cell_type": "code",
   "execution_count": 74,
   "metadata": {},
   "outputs": [
    {
     "name": "stdout",
     "output_type": "stream",
     "text": [
      "xoxo love xoxo\n",
      "lov\n",
      " xoxo love xoxo   \n",
      "droid is awesome\n"
     ]
    }
   ],
   "source": [
    "string = ' xoxo love xoxo   '\n",
    "\n",
    "# Leading whitepsace are removed\n",
    "print(string.strip())\n",
    "\n",
    "print(string.strip(' xoxoe'))\n",
    "\n",
    "# Argument doesn't contain space\n",
    "# No characters are removed.\n",
    "print(string.strip('sti'))\n",
    "\n",
    "string = 'android is awesome'\n",
    "print(string.strip('an'))"
   ]
  },
  {
   "cell_type": "code",
   "execution_count": 75,
   "metadata": {},
   "outputs": [
    {
     "name": "stdout",
     "output_type": "stream",
     "text": [
      "['welcome', 'to', 'the', 'jungle']\n"
     ]
    }
   ],
   "source": [
    "txt = \"welcome to the jungle\"\n",
    "\n",
    "x = txt.split()\n",
    "\n",
    "print(x)"
   ]
  },
  {
   "cell_type": "code",
   "execution_count": 76,
   "metadata": {},
   "outputs": [
    {
     "name": "stdout",
     "output_type": "stream",
     "text": [
      "['Milk', 'Chicken', 'Bread', 'Butter']\n",
      "['Milk\\n', 'Chicken\\r\\n', 'Bread\\r', 'Butter']\n",
      "['Milk Chicken Bread Butter']\n"
     ]
    }
   ],
   "source": [
    "grocery = 'Milk\\nChicken\\r\\nBread\\rButter'\n",
    "\n",
    "print(grocery.splitlines())\n",
    "print(grocery.splitlines(True))\n",
    "\n",
    "grocery = 'Milk Chicken Bread Butter'\n",
    "print(grocery.splitlines())"
   ]
  },
  {
   "cell_type": "code",
   "execution_count": 77,
   "metadata": {},
   "outputs": [
    {
     "name": "stdout",
     "output_type": "stream",
     "text": [
      "True\n",
      "False\n",
      "True\n"
     ]
    }
   ],
   "source": [
    "text = \"Python programming is easy.\"\n",
    "\n",
    "\n",
    "result = text.startswith('programming is', 7)\n",
    "print(result)\n",
    "\n",
    "result = text.startswith('programming is', 7, 18)\n",
    "print(result)\n",
    "\n",
    "result = text.startswith('program', 7, 18)\n",
    "print(result)"
   ]
  },
  {
   "cell_type": "code",
   "execution_count": 78,
   "metadata": {},
   "outputs": [
    {
     "name": "stdout",
     "output_type": "stream",
     "text": [
      "hELLO mY nAME iS peter\n"
     ]
    }
   ],
   "source": [
    "txt = \"Hello My Name Is PETER\"\n",
    "\n",
    "x = txt.swapcase()\n",
    "\n",
    "print(x)"
   ]
  },
  {
   "cell_type": "code",
   "execution_count": 79,
   "metadata": {},
   "outputs": [
    {
     "ename": "SyntaxError",
     "evalue": "invalid syntax (<ipython-input-79-3b45ebe78482>, line 2)",
     "output_type": "error",
     "traceback": [
      "\u001b[1;36m  File \u001b[1;32m\"<ipython-input-79-3b45ebe78482>\"\u001b[1;36m, line \u001b[1;32m2\u001b[0m\n\u001b[1;33m    print str.title()\u001b[0m\n\u001b[1;37m            ^\u001b[0m\n\u001b[1;31mSyntaxError\u001b[0m\u001b[1;31m:\u001b[0m invalid syntax\n"
     ]
    }
   ],
   "source": [
    "str = \"this is string example....wow!!!\";\n",
    "print str.title()"
   ]
  },
  {
   "cell_type": "code",
   "execution_count": 81,
   "metadata": {},
   "outputs": [
    {
     "name": "stdout",
     "output_type": "stream",
     "text": [
      "Original string: obaidaliamir\n"
     ]
    },
    {
     "ename": "ValueError",
     "evalue": "the first two maketrans arguments must have equal length",
     "output_type": "error",
     "traceback": [
      "\u001b[1;31m---------------------------------------------------------------------------\u001b[0m",
      "\u001b[1;31mValueError\u001b[0m                                Traceback (most recent call last)",
      "\u001b[1;32m<ipython-input-81-f7ea90ae0b6b>\u001b[0m in \u001b[0;36m<module>\u001b[1;34m\u001b[0m\n\u001b[0;32m      6\u001b[0m \u001b[0mprint\u001b[0m\u001b[1;33m(\u001b[0m\u001b[1;34m\"Original string:\"\u001b[0m\u001b[1;33m,\u001b[0m \u001b[0mstring\u001b[0m\u001b[1;33m)\u001b[0m\u001b[1;33m\u001b[0m\u001b[1;33m\u001b[0m\u001b[0m\n\u001b[0;32m      7\u001b[0m \u001b[1;33m\u001b[0m\u001b[0m\n\u001b[1;32m----> 8\u001b[1;33m \u001b[0mtranslation\u001b[0m \u001b[1;33m=\u001b[0m \u001b[0mstring\u001b[0m\u001b[1;33m.\u001b[0m\u001b[0mmaketrans\u001b[0m\u001b[1;33m(\u001b[0m\u001b[0mfirstString\u001b[0m\u001b[1;33m,\u001b[0m \u001b[0msecondString\u001b[0m\u001b[1;33m,\u001b[0m \u001b[0mthirdString\u001b[0m\u001b[1;33m)\u001b[0m\u001b[1;33m\u001b[0m\u001b[1;33m\u001b[0m\u001b[0m\n\u001b[0m\u001b[0;32m      9\u001b[0m \u001b[1;33m\u001b[0m\u001b[0m\n\u001b[0;32m     10\u001b[0m \u001b[1;31m# translate string\u001b[0m\u001b[1;33m\u001b[0m\u001b[1;33m\u001b[0m\u001b[1;33m\u001b[0m\u001b[0m\n",
      "\u001b[1;31mValueError\u001b[0m: the first two maketrans arguments must have equal length"
     ]
    }
   ],
   "source": [
    "firstString = \"obaid\"\n",
    "secondString = \"ali\"\n",
    "thirdString = \"amir\"\n",
    "\n",
    "string = \"obaidaliamir\"\n",
    "print(\"Original string:\", string)\n",
    "\n",
    "translation = string.maketrans(firstString, secondString, thirdString)\n",
    "\n",
    "# translate string\n",
    "print(\"Translated string:\", string.translate(translation))"
   ]
  },
  {
   "cell_type": "code",
   "execution_count": 82,
   "metadata": {},
   "outputs": [
    {
     "name": "stdout",
     "output_type": "stream",
     "text": [
      "THIS SHOULD BE UPPERCASE!\n",
      "TH!S SH0ULD B3 UPP3RCAS3!\n"
     ]
    }
   ],
   "source": [
    "string = \"this should be uppercase!\"\n",
    "print(string.upper())\n",
    "\n",
    "# string with numbers\n",
    "# all alphabets whould be lowercase\n",
    "string = \"Th!s Sh0uLd B3 uPp3rCas3!\"\n",
    "print(string.upper())"
   ]
  },
  {
   "cell_type": "code",
   "execution_count": 83,
   "metadata": {},
   "outputs": [
    {
     "name": "stdout",
     "output_type": "stream",
     "text": [
      "0program is fun\n",
      "000000program is fun\n",
      "program is fun\n"
     ]
    }
   ],
   "source": [
    "text = \"program is fun\"\n",
    "print(text.zfill(15))\n",
    "print(text.zfill(20))\n",
    "print(text.zfill(10))"
   ]
  },
  {
   "cell_type": "code",
   "execution_count": 84,
   "metadata": {},
   "outputs": [
    {
     "name": "stdout",
     "output_type": "stream",
     "text": [
      "hurt, hurt heart\n",
      "Let it be, don't let it be, don't let it be, let it be\n"
     ]
    }
   ],
   "source": [
    "song = 'cold, cold heart'\n",
    "print (song.replace('cold', 'hurt'))\n",
    "\n",
    "song = 'Let it be, let it be, let it be, let it be'\n",
    "\n",
    "'''only two occurences of 'let' is replaced'''\n",
    "print(song.replace('let', \"don't let\", 2))"
   ]
  },
  {
   "cell_type": "code",
   "execution_count": null,
   "metadata": {},
   "outputs": [],
   "source": [
    "OPERATER"
   ]
  },
  {
   "cell_type": "code",
   "execution_count": 86,
   "metadata": {},
   "outputs": [
    {
     "name": "stdout",
     "output_type": "stream",
     "text": [
      "Line 1 - Value of c is  31\n"
     ]
    }
   ],
   "source": [
    "a = 21\n",
    "b = 10\n",
    "c = 0\n",
    "\n",
    "c = a + b\n",
    "print (\"Line 1 - Value of c is \", c)"
   ]
  },
  {
   "cell_type": "code",
   "execution_count": 87,
   "metadata": {},
   "outputs": [
    {
     "name": "stdout",
     "output_type": "stream",
     "text": [
      "Line 2 - Value of c is  12\n"
     ]
    }
   ],
   "source": [
    "a = 29\n",
    "b = 17\n",
    "c = 9\n",
    "c = a - b\n",
    "print (\"Line 2 - Value of c is \", c)"
   ]
  },
  {
   "cell_type": "code",
   "execution_count": 89,
   "metadata": {},
   "outputs": [
    {
     "name": "stdout",
     "output_type": "stream",
     "text": [
      "Line 2 - Value of c is  4860\n"
     ]
    }
   ],
   "source": [
    "a = 81\n",
    "b = 60\n",
    "c = 8\n",
    "c = a * b\n",
    "print (\"Line 2 - Value of c is \", c)"
   ]
  },
  {
   "cell_type": "code",
   "execution_count": 88,
   "metadata": {},
   "outputs": [
    {
     "name": "stdout",
     "output_type": "stream",
     "text": [
      "Line 2 - Value of c is  2.9\n"
     ]
    }
   ],
   "source": [
    "a = 29\n",
    "b = 10\n",
    "c = 8\n",
    "c = a / b\n",
    "print (\"Line 2 - Value of c is \", c)"
   ]
  },
  {
   "cell_type": "code",
   "execution_count": 90,
   "metadata": {},
   "outputs": [
    {
     "name": "stdout",
     "output_type": "stream",
     "text": [
      "Line 2 - Value of c is  3\n"
     ]
    }
   ],
   "source": [
    "a = 61\n",
    "b = 19\n",
    "c = 9\n",
    "c = a // b\n",
    "print (\"Line 2 - Value of c is \", c)"
   ]
  },
  {
   "cell_type": "code",
   "execution_count": 91,
   "metadata": {},
   "outputs": [
    {
     "name": "stdout",
     "output_type": "stream",
     "text": [
      "False\n",
      "True\n",
      "False\n",
      "True\n",
      "False\n",
      "True\n"
     ]
    }
   ],
   "source": [
    "a = 13\n",
    "b = 33\n",
    "  \n",
    "# a > b is False \n",
    "print(a > b) \n",
    "  \n",
    "# a < b is True \n",
    "print(a < b) \n",
    "  \n",
    "# a == b is False \n",
    "print(a == b) \n",
    "  \n",
    "# a != b is True \n",
    "print(a != b) \n",
    "  \n",
    "# a >= b is False \n",
    "print(a >= b) \n",
    "  \n",
    "# a <= b is True \n",
    "print(a <= b)"
   ]
  },
  {
   "cell_type": "code",
   "execution_count": 92,
   "metadata": {},
   "outputs": [
    {
     "name": "stdout",
     "output_type": "stream",
     "text": [
      "False\n",
      "True\n",
      "False\n"
     ]
    }
   ],
   "source": [
    "a = True\n",
    "b = False\n",
    "  \n",
    "# Print a and b is False \n",
    "print(a and b) \n",
    "  \n",
    "# Print a or b is True \n",
    "print(a or b) \n",
    "  \n",
    "# Print not a is False \n",
    "print(not a)"
   ]
  },
  {
   "cell_type": "code",
   "execution_count": 93,
   "metadata": {},
   "outputs": [
    {
     "name": "stdout",
     "output_type": "stream",
     "text": [
      "64\n",
      "95\n",
      "-81\n",
      "31\n",
      "20\n",
      "320\n"
     ]
    }
   ],
   "source": [
    "a = 80\n",
    "b = 79\n",
    "  \n",
    "# Print bitwise AND operation   \n",
    "print(a & b) \n",
    "  \n",
    "# Print bitwise OR operation \n",
    "print(a | b) \n",
    "  \n",
    "# Print bitwise NOT operation  \n",
    "print(~a) \n",
    "  \n",
    "# print bitwise XOR operation  \n",
    "print(a ^ b) \n",
    "  \n",
    "# print bitwise right shift operation  \n",
    "print(a >> 2) \n",
    "  \n",
    "# print bitwise left shift operation  \n",
    "print(a << 2)"
   ]
  },
  {
   "cell_type": "code",
   "execution_count": 94,
   "metadata": {},
   "outputs": [
    {
     "name": "stdout",
     "output_type": "stream",
     "text": [
      "False\n",
      "False\n",
      "False\n",
      "True\n",
      "False\n"
     ]
    }
   ],
   "source": [
    "x = 'one for two'\n",
    "y = {3:'a',4:'b'} \n",
    "  \n",
    "  \n",
    "print('G' in x) \n",
    "  \n",
    "print('one' not in x) \n",
    "  \n",
    "print('two' not in x) \n",
    "  \n",
    "print(3 in y) \n",
    "  \n",
    "print('b' in y)"
   ]
  },
  {
   "cell_type": "code",
   "execution_count": null,
   "metadata": {},
   "outputs": [],
   "source": [
    "a1 = 3\n",
    "b1 = 3\n",
    "a2 = 'oneforone'\n",
    "b2 = 'oneforone'\n",
    "a3 = [1,2,3] \n",
    "b3 = [1,2,3] \n",
    "  \n",
    "  \n",
    "print(a1 is not b1) \n",
    "  \n",
    "  \n",
    "print(a2 is b2) \n",
    "  \n",
    "# Output is False, since lists are mutable. \n",
    "print(a3 is b3)"
   ]
  }
 ],
 "metadata": {
  "kernelspec": {
   "display_name": "Python 3",
   "language": "python",
   "name": "python3"
  },
  "language_info": {
   "codemirror_mode": {
    "name": "ipython",
    "version": 3
   },
   "file_extension": ".py",
   "mimetype": "text/x-python",
   "name": "python",
   "nbconvert_exporter": "python",
   "pygments_lexer": "ipython3",
   "version": "3.7.3"
  }
 },
 "nbformat": 4,
 "nbformat_minor": 2
}
